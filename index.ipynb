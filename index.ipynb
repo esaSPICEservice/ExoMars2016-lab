{
 "cells": [
  {
   "cell_type": "markdown",
   "metadata": {},
   "source": [
    "# ExoMars2016 SPICE Kernel Dataset Status\n",
    "\n",
    "Last updated on 2019-10-11T17:10 by Marc Costa Sitja (ESAC/ESA)SKD version: v330_20190111_002\n",
    "\n",
    "## Startup and Coverage\n"
   ]
  },
  {
   "cell_type": "code",
   "execution_count": null,
   "metadata": {},
   "outputs": [],
   "source": [
    "import spiops\n",
    "\n",
    "spiops.load('ExoMars2016/kernels/mk/em16_ops_local.tm')\n",
    "\n",
    "start_time = '2018-12-30T00:00:02.939'\n",
    "finish_time ='2019-01-06T23:59:56.252'\n",
    "\n",
    "interval = spiops.TimeWindow(start_time, finish_time,resolution=60)\n",
    "\n",
    "mars = spiops.Target('MARS', time=interval, frame='IAU_MARS')\n",
    "tgo = spiops.Observer('TGO', time=interval, target=mars)"
   ]
  },
  {
   "cell_type": "markdown",
   "metadata": {},
   "source": [
    "## Geometry Plots"
   ]
  },
  {
   "cell_type": "code",
   "execution_count": null,
   "metadata": {},
   "outputs": [],
   "source": [
    "tgo.Plot('distance', notebook=True)\n",
    "tgo.Plot('zaxis_target_angle', notebook=True)"
   ]
  },
  {
   "cell_type": "code",
   "execution_count": null,
   "metadata": {},
   "outputs": [],
   "source": [
    "resolution = 4\n",
    "tolerance = 0.0001  #[DEG]\n",
    "spacecraft_frame = 'TGO_SPACECRAFT'\n",
    "target_frame = 'J2000'"
   ]
  },
  {
   "cell_type": "code",
   "execution_count": null,
   "metadata": {},
   "outputs": [],
   "source": [
    "measured_ck = 'ExoMars2016/kernels/ck/em16_tgo_sc_ssm_20181230_20190106_s20181121_v01.bc'\n",
    "predicted_ck = 'ExoMars2016/kernels/ck/em16_tgo_sc_fsp_054_01_20180222_20190119_s20181121_v01.bc'\n",
    "\n",
    "spiops.ckdiff_error(measured_ck, predicted_ck, spacecraft_frame, target_frame,\n",
    "                    resolution, tolerance, notebook=True,\n",
    "                    plot_style='circle')"
   ]
  }
 ],
 "metadata": {
  "kernelspec": {
   "display_name": "Python 3",
   "language": "python",
   "name": "python3"
  },
  "language_info": {
   "codemirror_mode": {
    "name": "ipython",
    "version": 3
   },
   "file_extension": ".py",
   "mimetype": "text/x-python",
   "name": "python",
   "nbconvert_exporter": "python",
   "pygments_lexer": "ipython3",
   "version": "3.6.4"
  }
 },
 "nbformat": 4,
 "nbformat_minor": 2
}
