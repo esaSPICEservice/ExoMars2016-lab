{
 "cells": [
  {
   "cell_type": "markdown",
   "metadata": {},
   "source": [
    "# ExoMars2016 SPICE Kernel Dataset Status\n",
    "\n",
    "Last updated on 2019-13-22T11:13 by Marc Costa Sitja (ESAC/ESA) \n",
    "SKD version:    v400_20190222_001\n",
    "SPIVAL version: {spival_version}\n",
    "\n",
    "## Startup and Coverage\n"
   ]
  },
  {
   "cell_type": "code",
   "execution_count": null,
   "metadata": {},
   "outputs": [],
   "source": [
    "import spiops\n",
    "\n",
    "spiops.load('ExoMars2016/kernels/mk/em16_ops_local.tm')                    # The meta-kernel is loaded \n",
    "\n",
    "start_time = '2019-02-10T00:00:02.605'                                # Start time\n",
    "finish_time ='2019-02-17T23:59:59.923'                                # Finish time\n",
    "\n",
    "interval = spiops.TimeWindow(start_time, finish_time,resolution=60) # spiops object TimeWindow generated\n",
    "mars = spiops.Target('MARS', time=interval, frame='IAU_MARS')       # spiops object Target Mars generated\n",
    "tgo = spiops.Observer('TGO', time=interval, target=mars)            # spiops object Observer TGO generated\n\n",
    "spiops.ck_coverage_timeline('ExoMars2016/kernels/mk/em16_ops_local.tm')\n",
    "spiops.spk_coverage_timeline('ExoMars2016/kernels/mk/em16_ops_local.tm')"
   ]
  },
  {
   "cell_type": "markdown",
   "metadata": {},
   "source": [
    "## Attitude Error\n",
    "Comparison of -Y axis orientation between predicted and measured attitude in milidegrees "
   ]
  },
  {
   "cell_type": "code",
   "execution_count": null,
   "metadata": {},
   "outputs": [],
   "source": [
    "resolution = 16\n",
    "\n",
    "measured_ck = 'ExoMars2016/kernels/ck/em16_tgo_sc_ssm_20190210_20190217_s20190208_v02.bc'\n",
    "predicted_ck = 'ExoMars2016/kernels/ck/em16_tgo_sc_fsp_060_01_20180222_20190302_s20190208_v01.bc'\n",
    "\n",
    "spiops.ckdiff_error(measured_ck, predicted_ck, 'TGO_SPACECRAFT', 'J2000', resolution, 0.0001, \n",
    "                    notebook=True, plot_style='circle', boresight=[0,-1,0])"
   ]
  },
  {
   "cell_type": "markdown",
   "metadata": {},
   "source": [
    "## S/C Structures Orientation\n",
    "Solar Array Orientation, High Gain Antenna Orientation\n",
    "\n"
   ]
  },
{
   "cell_type": "code",
   "execution_count": null,
   "metadata": {},
   "outputs": [],
   "source": [
    "tgo.Plot('sa_ang', notebook=True)              # Solar Array (SA) Angles"
   ]
  },
{
   "cell_type": "code",
   "execution_count": null,
   "metadata": {},
   "outputs": [],
   "source": [
    "tgo.Plot('saa_sa', notebook=True)              # SA Solar Aspect Angle"
   ]
  },
{
   "cell_type": "code",
   "execution_count": null,
   "metadata": {},
   "outputs": [],
   "source": [
    "tgo.Plot('hga_earth', notebook=True)           # High Gain Antenna - Earth Angle"
   ]
  },
{
   "cell_type": "code",
   "execution_count": null,
   "metadata": {},
   "outputs": [],
   "source": [
    "tgo.Plot('hga_angles', notebook=True)          # High Gain Antenna Angles"
   ]
  },
  {
   "cell_type": "markdown",
   "metadata": {},
   "source": [
    "## Geometry Plots\n",
    "Basic plots for quick geometry assessment"
   ]
  },
  {
   "cell_type": "code",
   "execution_count": null,
   "metadata": {},
   "outputs": [],
   "source": [
    "tgo.Plot('altitude', notebook=True)            # TGO-Mars Altitude"
   ]
  },
  {
   "cell_type": "code",
   "execution_count": null,
   "metadata": {},
   "outputs": [],
   "source": [
    "tgo.Plot('myaxis_target_angle', notebook=True) # TGO -Y Axis and Mars Angle"
   ]
  },
  {
   "cell_type": "code",
   "execution_count": null,
   "metadata": {},
   "outputs": [],
   "source": [
    "tgo.Plot('latitude', notebook=True)            # Latitude"
   ]
  },
  {
   "cell_type": "code",
   "execution_count": null,
   "metadata": {},
   "outputs": [],
   "source": [
    "tgo.Plot('longitude',notebook=True)            # Longitude"
   ]
  },
  {
   "cell_type": "code",
   "execution_count": null,
   "metadata": {},
   "outputs": [],
   "source": [
    "tgo.Plot('groundtrack', notebook=True)         # Groundtrack"
   ]
  },
  {
   "cell_type":       "code",
   "execution_count": null,
   "metadata":        {},
   "outputs":         [],
   "source":          [
    "tgo.Plot('beta_angle', notebook=True)         # Beta Angle"
   ]
  }
 ],
 "metadata": {
  "kernelspec": {
   "display_name": "Python 3",
   "language": "python",
   "name": "python3"
  },
  "language_info": {
   "codemirror_mode": {
    "name": "ipython",
    "version": 3
   },
   "file_extension": ".py",
   "mimetype": "text/x-python",
   "name": "python",
   "nbconvert_exporter": "python",
   "pygments_lexer": "ipython3",
   "version": "3.6.4"
  }
 },
 "nbformat": 4,
 "nbformat_minor": 2
}
